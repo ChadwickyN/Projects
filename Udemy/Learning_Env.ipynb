{
 "cells": [
  {
   "cell_type": "code",
   "execution_count": 12,
   "metadata": {},
   "outputs": [
    {
     "data": {
      "text/plain": [
       "5"
      ]
     },
     "execution_count": 12,
     "metadata": {},
     "output_type": "execute_result"
    }
   ],
   "source": [
    "# Function Practice Excercies WARMUP\n",
    "def lesser_of_two_evens(a,b):\n",
    "    if a%2 == 0 and b%2 == 0:\n",
    "        if a < b:\n",
    "            return(a)\n",
    "        elif a > b:\n",
    "            return(b)\n",
    "    elif a > b:\n",
    "        return(a)\n",
    "    elif a < b:\n",
    "        return(b)\n",
    "    pass\n",
    "\n",
    "lesser_of_two_evens(2,5)"
   ]
  },
  {
   "cell_type": "code",
   "execution_count": 20,
   "metadata": {},
   "outputs": [
    {
     "data": {
      "text/plain": [
       "'false'"
      ]
     },
     "execution_count": 20,
     "metadata": {},
     "output_type": "execute_result"
    }
   ],
   "source": [
    "#animal crackers\n",
    "\n",
    "def animal_crackers(a,b):\n",
    "    first_word = a[0]\n",
    "    second_word = b[0]\n",
    "    \n",
    "    if first_word == second_word:\n",
    "        return('true')\n",
    "    else:\n",
    "        return('false')\n",
    "    pass\n",
    "\n",
    "#animal_crackers('levelheaded','lama')\n",
    "#animal_crackers('Crazy','Kangaroo')"
   ]
  },
  {
   "cell_type": "code",
   "execution_count": 30,
   "metadata": {},
   "outputs": [
    {
     "data": {
      "text/plain": [
       "'true'"
      ]
     },
     "execution_count": 30,
     "metadata": {},
     "output_type": "execute_result"
    }
   ],
   "source": [
    "# makes twenty\n",
    "\n",
    "def makes_twenty(n1,n2):\n",
    "    if n1 == 20 or n2 == 20 or (n1+n2) == 20:\n",
    "        return('true')\n",
    "    else:\n",
    "        return('false')\n",
    "    pass\n",
    "\n",
    "#makes_twenty(20,10)\n",
    "#makes_twenty(10,20)\n",
    "#makes_twenty(12,8)\n",
    "#makes_twenty(2,3)"
   ]
  },
  {
   "cell_type": "code",
   "execution_count": 65,
   "metadata": {},
   "outputs": [
    {
     "data": {
      "text/plain": [
       "'MacDonald'"
      ]
     },
     "execution_count": 65,
     "metadata": {},
     "output_type": "execute_result"
    }
   ],
   "source": [
    "# old macdonald\n",
    "def old_macdonald(name):\n",
    "    'macdonald'.capitalize()\n",
    "    \n",
    "    return ('mac'.capitalize()+'donald'.capitalize())\n",
    "\n",
    "old_macdonald('macdonald')\n"
   ]
  },
  {
   "cell_type": "code",
   "execution_count": 74,
   "metadata": {},
   "outputs": [
    {
     "data": {
      "text/plain": [
       "'ready are We'"
      ]
     },
     "execution_count": 74,
     "metadata": {},
     "output_type": "execute_result"
    }
   ],
   "source": [
    "# Master Yoda\n",
    "def master_yoda(text):\n",
    "    words = text.split()\n",
    "    a = words[0]\n",
    "    b = words[1]\n",
    "    c = words[2]\n",
    "    \n",
    "    phrase = (c+' '+b+' '+a)\n",
    "    \n",
    "    return(phrase)\n",
    "    pass\n",
    "\n",
    "#master_yoda('I am home')\n",
    "master_yoda('We are ready')\n"
   ]
  },
  {
   "cell_type": "code",
   "execution_count": 77,
   "metadata": {},
   "outputs": [
    {
     "data": {
      "text/plain": [
       "'true'"
      ]
     },
     "execution_count": 77,
     "metadata": {},
     "output_type": "execute_result"
    }
   ],
   "source": [
    "#almost_there\n",
    "\n",
    "def almost_there(n):\n",
    "    if (n+10) >= 100 and \n",
    "        return('true')\n",
    "    else:\n",
    "        return('false')\n",
    "    \n",
    "    pass\n",
    "\n",
    "#almost_there(90)\n",
    "#almost_there(104)\n",
    "#almost_there(150)\n",
    "#almost_there(209)"
   ]
  }
 ],
 "metadata": {
  "kernelspec": {
   "display_name": "Python 3",
   "language": "python",
   "name": "python3"
  },
  "language_info": {
   "codemirror_mode": {
    "name": "ipython",
    "version": 3
   },
   "file_extension": ".py",
   "mimetype": "text/x-python",
   "name": "python",
   "nbconvert_exporter": "python",
   "pygments_lexer": "ipython3",
   "version": "3.11.8"
  }
 },
 "nbformat": 4,
 "nbformat_minor": 2
}
