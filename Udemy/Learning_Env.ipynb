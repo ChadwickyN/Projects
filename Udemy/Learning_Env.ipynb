{
 "cells": [
  {
   "cell_type": "code",
   "execution_count": 12,
   "metadata": {},
   "outputs": [
    {
     "data": {
      "text/plain": [
       "5"
      ]
     },
     "execution_count": 12,
     "metadata": {},
     "output_type": "execute_result"
    }
   ],
   "source": [
    "# Function Practice Excercies WARMUP\n",
    "def lesser_of_two_evens(a,b):\n",
    "    if a%2 == 0 and b%2 == 0:\n",
    "        if a < b:\n",
    "            return(a)\n",
    "        elif a > b:\n",
    "            return(b)\n",
    "    elif a > b:\n",
    "        return(a)\n",
    "    elif a < b:\n",
    "        return(b)\n",
    "    pass\n",
    "\n",
    "lesser_of_two_evens(2,5)"
   ]
  },
  {
   "cell_type": "code",
   "execution_count": 20,
   "metadata": {},
   "outputs": [
    {
     "data": {
      "text/plain": [
       "'false'"
      ]
     },
     "execution_count": 20,
     "metadata": {},
     "output_type": "execute_result"
    }
   ],
   "source": [
    "#animal crackers\n",
    "\n",
    "def animal_crackers(a,b):\n",
    "    first_word = a[0]\n",
    "    second_word = b[0]\n",
    "    \n",
    "    if first_word == second_word:\n",
    "        return('true')\n",
    "    else:\n",
    "        return('false')\n",
    "    pass\n",
    "\n",
    "#animal_crackers('levelheaded','lama')\n",
    "#animal_crackers('Crazy','Kangaroo')"
   ]
  },
  {
   "cell_type": "code",
   "execution_count": 30,
   "metadata": {},
   "outputs": [
    {
     "data": {
      "text/plain": [
       "'true'"
      ]
     },
     "execution_count": 30,
     "metadata": {},
     "output_type": "execute_result"
    }
   ],
   "source": [
    "# makes twenty\n",
    "\n",
    "def makes_twenty(n1,n2):\n",
    "    if n1 == 20 or n2 == 20 or (n1+n2) == 20:\n",
    "        return('true')\n",
    "    else:\n",
    "        return('false')\n",
    "    pass\n",
    "\n",
    "#makes_twenty(20,10)\n",
    "#makes_twenty(10,20)\n",
    "#makes_twenty(12,8)\n",
    "#makes_twenty(2,3)"
   ]
  },
  {
   "cell_type": "code",
   "execution_count": 65,
   "metadata": {},
   "outputs": [
    {
     "data": {
      "text/plain": [
       "'MacDonald'"
      ]
     },
     "execution_count": 65,
     "metadata": {},
     "output_type": "execute_result"
    }
   ],
   "source": [
    "# old macdonald\n",
    "def old_macdonald(name):\n",
    "    'macdonald'.capitalize()\n",
    "    \n",
    "    return ('mac'.capitalize()+'donald'.capitalize())\n",
    "\n",
    "old_macdonald('macdonald')\n"
   ]
  },
  {
   "cell_type": "code",
   "execution_count": 74,
   "metadata": {},
   "outputs": [
    {
     "data": {
      "text/plain": [
       "'ready are We'"
      ]
     },
     "execution_count": 74,
     "metadata": {},
     "output_type": "execute_result"
    }
   ],
   "source": [
    "# Master Yoda\n",
    "def master_yoda(text):\n",
    "    words = text.split()\n",
    "    a = words[0]\n",
    "    b = words[1]\n",
    "    c = words[2]\n",
    "    \n",
    "    phrase = (c+' '+b+' '+a)\n",
    "    \n",
    "    return(phrase)\n",
    "    pass\n",
    "\n",
    "#master_yoda('I am home')\n",
    "master_yoda('We are ready')\n"
   ]
  },
  {
   "cell_type": "code",
   "execution_count": 4,
   "metadata": {},
   "outputs": [
    {
     "data": {
      "text/plain": [
       "'true'"
      ]
     },
     "execution_count": 4,
     "metadata": {},
     "output_type": "execute_result"
    }
   ],
   "source": [
    "#almost_there\n",
    "\n",
    "def almost_there(n):\n",
    "    if (n+10) >= 100 and (n+10) < 111: \n",
    "        return('true')\n",
    "    elif (n+10) >= 200 and (n+10) < 201:\n",
    "        return('true')\n",
    "    elif (n-10) <= 100 and (n-10) > 91:\n",
    "        return('true')\n",
    "    elif (n-10) <= 200 and (n-10) > 191:\n",
    "        return('true')\n",
    "    else:\n",
    "        return('false')\n",
    "    \n",
    "    pass\n",
    "\n",
    "#almost_there(90)\n",
    "#almost_there(104)\n",
    "#almost_there(150)\n",
    "#almost_there(209)"
   ]
  },
  {
   "cell_type": "code",
   "execution_count": 7,
   "metadata": {},
   "outputs": [
    {
     "ename": "SyntaxError",
     "evalue": "'return' outside function (2410626778.py, line 6)",
     "output_type": "error",
     "traceback": [
      "\u001b[1;36m  Cell \u001b[1;32mIn[7], line 6\u001b[1;36m\u001b[0m\n\u001b[1;33m    return False\u001b[0m\n\u001b[1;37m    ^\u001b[0m\n\u001b[1;31mSyntaxError\u001b[0m\u001b[1;31m:\u001b[0m 'return' outside function\n"
     ]
    }
   ],
   "source": [
    "def has_33(nums):\n",
    " for i in range(0,len(nums)-1):\n",
    "     if nums[i] == 3 and nums[i+1] == 3:\n",
    "        return True\n",
    "    \n",
    "return False\n",
    "\n",
    "pass"
   ]
  },
  {
   "cell_type": "code",
   "execution_count": 6,
   "metadata": {},
   "outputs": [
    {
     "data": {
      "text/plain": [
       "33.49333333333333"
      ]
     },
     "execution_count": 6,
     "metadata": {},
     "output_type": "execute_result"
    }
   ],
   "source": [
    "def vol(rad):\n",
    "    x = (4/3)*3.14*(rad**3)\n",
    "    return(x)\n",
    "    pass\n",
    "\n",
    "vol(2)"
   ]
  },
  {
   "cell_type": "code",
   "execution_count": 12,
   "metadata": {},
   "outputs": [
    {
     "data": {
      "text/plain": [
       "(0, 'is NOT in between', 1, 'and', 6)"
      ]
     },
     "execution_count": 12,
     "metadata": {},
     "output_type": "execute_result"
    }
   ],
   "source": [
    "def ran_check(num,low,high):\n",
    "    if num > low and num < high:\n",
    "        return(num, \"is in between\", low, \"and\", high)\n",
    "    else:\n",
    "        return(num, 'is NOT in between', low, 'and', high)\n",
    "pass\n",
    "\n",
    "ran_check(0,1,6)"
   ]
  },
  {
   "cell_type": "code",
   "execution_count": null,
   "metadata": {},
   "outputs": [],
   "source": []
  }
 ],
 "metadata": {
  "kernelspec": {
   "display_name": "Python 3",
   "language": "python",
   "name": "python3"
  },
  "language_info": {
   "codemirror_mode": {
    "name": "ipython",
    "version": 3
   },
   "file_extension": ".py",
   "mimetype": "text/x-python",
   "name": "python",
   "nbconvert_exporter": "python",
   "pygments_lexer": "ipython3",
   "version": "3.11.8"
  }
 },
 "nbformat": 4,
 "nbformat_minor": 2
}
